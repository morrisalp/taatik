{
  "nbformat": 4,
  "nbformat_minor": 0,
  "metadata": {
    "colab": {
      "name": "Get Hebrew Wiktionary transliterations.ipynb",
      "version": "0.3.2",
      "provenance": [],
      "collapsed_sections": [],
      "include_colab_link": true
    },
    "kernelspec": {
      "name": "python3",
      "display_name": "Python 3"
    }
  },
  "cells": [
    {
      "cell_type": "markdown",
      "metadata": {
        "id": "view-in-github",
        "colab_type": "text"
      },
      "source": [
        "<a href=\"https://colab.research.google.com/github/morrisalp/taatik/blob/master/Get_Hebrew_Wiktionary_transliterations.ipynb\" target=\"_parent\"><img src=\"https://colab.research.google.com/assets/colab-badge.svg\" alt=\"Open In Colab\"/></a>"
      ]
    },
    {
      "metadata": {
        "id": "nm7RnXesNij1",
        "colab_type": "code",
        "outputId": "98973e88-c926-42f1-add5-c6b55c879b3f",
        "colab": {
          "base_uri": "https://localhost:8080/",
          "height": 68
        }
      },
      "cell_type": "code",
      "source": [
        "! pip install wikitextparser"
      ],
      "execution_count": 0,
      "outputs": [
        {
          "output_type": "stream",
          "text": [
            "Requirement already satisfied: wikitextparser in /usr/local/lib/python3.6/dist-packages (0.22.0)\n",
            "Requirement already satisfied: wcwidth in /usr/local/lib/python3.6/dist-packages (from wikitextparser) (0.1.7)\n",
            "Requirement already satisfied: regex in /usr/local/lib/python3.6/dist-packages (from wikitextparser) (2018.1.10)\n"
          ],
          "name": "stdout"
        }
      ]
    },
    {
      "metadata": {
        "id": "4TDlVhsJKhh3",
        "colab_type": "code",
        "colab": {}
      },
      "cell_type": "code",
      "source": [
        "import requests\n",
        "import pandas as pd\n",
        "from functools import lru_cache\n",
        "from multiprocessing import Pool\n",
        "from tqdm import tqdm\n",
        "import wikitextparser as wtp\n",
        "from google.colab import files"
      ],
      "execution_count": 0,
      "outputs": []
    },
    {
      "metadata": {
        "id": "XtJWnci5MSEX",
        "colab_type": "code",
        "colab": {}
      },
      "cell_type": "code",
      "source": [
        "def all_pages():\n",
        "  cont = ''\n",
        "  while True:\n",
        "    url = f'https://he.wiktionary.org/w/api.php?action=query&list=allpages&aplimit=500&format=json&apcontinue={cont}'\n",
        "    obj = requests.get(url).json()\n",
        "    for x in obj['query']['allpages']: yield x['title']\n",
        "    if 'continue' not in obj: break\n",
        "    cont = obj['continue']['apcontinue']"
      ],
      "execution_count": 0,
      "outputs": []
    },
    {
      "metadata": {
        "id": "6M0nWos-MnCR",
        "colab_type": "code",
        "colab": {}
      },
      "cell_type": "code",
      "source": [
        "@lru_cache(maxsize = None)\n",
        "def get_wikitext(word):\n",
        "  try:\n",
        "    url = f'https://he.wiktionary.org/w/api.php?action=query&titles={word}&prop=revisions&rvprop=content&format=json'\n",
        "    obj = requests.get(url).json()\n",
        "    return list(obj['query']['pages'].values())[0]['revisions'][0]['*']\n",
        "  except KeyError:\n",
        "    return ''"
      ],
      "execution_count": 0,
      "outputs": []
    },
    {
      "metadata": {
        "id": "uAiqW45SLwNg",
        "colab_type": "code",
        "outputId": "49aac210-7033-442f-9a3c-042c30e26aaf",
        "colab": {
          "base_uri": "https://localhost:8080/",
          "height": 51
        }
      },
      "cell_type": "code",
      "source": [
        "%time he = set(all_pages())"
      ],
      "execution_count": 0,
      "outputs": [
        {
          "output_type": "stream",
          "text": [
            "CPU times: user 656 ms, sys: 38 ms, total: 694 ms\n",
            "Wall time: 15.1 s\n"
          ],
          "name": "stdout"
        }
      ]
    },
    {
      "metadata": {
        "id": "kJGW2GecN7XW",
        "colab_type": "code",
        "colab": {}
      },
      "cell_type": "code",
      "source": [
        "def get_translit_df(word):\n",
        "  wikitext = get_wikitext(word)\n",
        "  parsed = wtp.parse(wikitext)\n",
        "  return pd.concat([\n",
        "      pd.DataFrame({\n",
        "          \"word\": word.strip(),\n",
        "          \"nikkud\": section.title.strip(),\n",
        "          \"transliteration\": [\n",
        "              argument.value.strip().replace(\"'''\", \"\")\n",
        "              for template in wtp.parse(section.contents).templates\n",
        "              for argument in template.arguments\n",
        "              if template.name == \"ניתוח דקדוקי\" and\n",
        "              argument.name == \"הגייה\"\n",
        "          ]\n",
        "      })\n",
        "      for section in parsed.sections\n",
        "  ])"
      ],
      "execution_count": 0,
      "outputs": []
    },
    {
      "metadata": {
        "id": "mjdeT0QnRAY_",
        "colab_type": "code",
        "outputId": "2bb496a9-64d5-4ab1-c8e2-f7ba33c7505d",
        "colab": {
          "base_uri": "https://localhost:8080/",
          "height": 80
        }
      },
      "cell_type": "code",
      "source": [
        "get_translit_df('אכסניה')"
      ],
      "execution_count": 0,
      "outputs": [
        {
          "output_type": "execute_result",
          "data": {
            "text/html": [
              "<div>\n",
              "<style scoped>\n",
              "    .dataframe tbody tr th:only-of-type {\n",
              "        vertical-align: middle;\n",
              "    }\n",
              "\n",
              "    .dataframe tbody tr th {\n",
              "        vertical-align: top;\n",
              "    }\n",
              "\n",
              "    .dataframe thead th {\n",
              "        text-align: right;\n",
              "    }\n",
              "</style>\n",
              "<table border=\"1\" class=\"dataframe\">\n",
              "  <thead>\n",
              "    <tr style=\"text-align: right;\">\n",
              "      <th></th>\n",
              "      <th>nikkud</th>\n",
              "      <th>transliteration</th>\n",
              "      <th>word</th>\n",
              "    </tr>\n",
              "  </thead>\n",
              "  <tbody>\n",
              "    <tr>\n",
              "      <th>0</th>\n",
              "      <td>אַכְסַנְיָה</td>\n",
              "      <td>akhsanya</td>\n",
              "      <td>אכסניה</td>\n",
              "    </tr>\n",
              "  </tbody>\n",
              "</table>\n",
              "</div>"
            ],
            "text/plain": [
              "        nikkud transliteration    word\n",
              "0  אַכְסַנְיָה        akhsanya  אכסניה"
            ]
          },
          "metadata": {
            "tags": []
          },
          "execution_count": 7
        }
      ]
    },
    {
      "metadata": {
        "id": "ayEVksePd5as",
        "colab_type": "code",
        "outputId": "2fd0e9d4-eb85-4c8a-df78-83f6b1168b22",
        "colab": {
          "base_uri": "https://localhost:8080/",
          "height": 34
        }
      },
      "cell_type": "code",
      "source": [
        "with Pool(processes = 8) as pool:\n",
        "  df = pd.concat(list(tqdm(pool.imap(get_translit_df, he), total = len(he))))"
      ],
      "execution_count": 0,
      "outputs": [
        {
          "output_type": "stream",
          "text": [
            "100%|██████████| 23851/23851 [15:59<00:00, 24.27it/s]\n"
          ],
          "name": "stderr"
        }
      ]
    },
    {
      "metadata": {
        "id": "W5kgPAZzRw0q",
        "colab_type": "code",
        "colab": {}
      },
      "cell_type": "code",
      "source": [
        "df.sort_values(by = 'word').to_csv('hebrew_wiki_translit.csv', index = False)\n",
        "files.download('hebrew_wiki_translit.csv')"
      ],
      "execution_count": 0,
      "outputs": []
    }
  ]
}